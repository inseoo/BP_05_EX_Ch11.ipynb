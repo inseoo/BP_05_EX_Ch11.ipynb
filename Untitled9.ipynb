{
  "nbformat": 4,
  "nbformat_minor": 0,
  "metadata": {
    "colab": {
      "provenance": [],
      "authorship_tag": "ABX9TyOSUGNSMlHLyjfC/bphO5Ma",
      "include_colab_link": true
    },
    "kernelspec": {
      "name": "python3",
      "display_name": "Python 3"
    },
    "language_info": {
      "name": "python"
    }
  },
  "cells": [
    {
      "cell_type": "markdown",
      "metadata": {
        "id": "view-in-github",
        "colab_type": "text"
      },
      "source": [
        "<a href=\"https://colab.research.google.com/github/inseoo/BP_05_EX_Ch11.ipynb/blob/main/Untitled9.ipynb\" target=\"_parent\"><img src=\"https://colab.research.google.com/assets/colab-badge.svg\" alt=\"Open In Colab\"/></a>"
      ]
    },
    {
      "cell_type": "markdown",
      "source": [
        "1.사용자가 입력한 텍스트 파일을 열어서 파일 안에 글자가 몇 개나 있는지를 계산하는 프로그램을 작성하라."
      ],
      "metadata": {
        "id": "UXh0Ia3Sq5GE"
      }
    },
    {
      "cell_type": "code",
      "source": [
        "#from google.colab import drive\n",
        "#drive.mount('/count/drive')\n",
        "from google.colab import files\n",
        "uploaded = files.upload()\n",
        "filename = input(\"파일 이름을 입력하세요: \").strip()\n",
        "infile = open(filename, \"r\")\n",
        "count = 0\n",
        "\n",
        "for line in infile:\n",
        "  for ch in line:\n",
        "    count += 1\n",
        "\n",
        "print(\"파일 안에는 총\", count, \"개의글자가 있습니다.\")\n",
        "infile.close()"
      ],
      "metadata": {
        "colab": {
          "base_uri": "https://localhost:8080/",
          "height": 113
        },
        "id": "4k7PmAfxq7DX",
        "outputId": "04c4974c-6bee-410a-d5e6-7daa7c5728f9"
      },
      "execution_count": 27,
      "outputs": [
        {
          "output_type": "display_data",
          "data": {
            "text/plain": [
              "<IPython.core.display.HTML object>"
            ],
            "text/html": [
              "\n",
              "     <input type=\"file\" id=\"files-cf760874-21ce-435b-88d0-924168454615\" name=\"files[]\" multiple disabled\n",
              "        style=\"border:none\" />\n",
              "     <output id=\"result-cf760874-21ce-435b-88d0-924168454615\">\n",
              "      Upload widget is only available when the cell has been executed in the\n",
              "      current browser session. Please rerun this cell to enable.\n",
              "      </output>\n",
              "      <script>// Copyright 2017 Google LLC\n",
              "//\n",
              "// Licensed under the Apache License, Version 2.0 (the \"License\");\n",
              "// you may not use this file except in compliance with the License.\n",
              "// You may obtain a copy of the License at\n",
              "//\n",
              "//      http://www.apache.org/licenses/LICENSE-2.0\n",
              "//\n",
              "// Unless required by applicable law or agreed to in writing, software\n",
              "// distributed under the License is distributed on an \"AS IS\" BASIS,\n",
              "// WITHOUT WARRANTIES OR CONDITIONS OF ANY KIND, either express or implied.\n",
              "// See the License for the specific language governing permissions and\n",
              "// limitations under the License.\n",
              "\n",
              "/**\n",
              " * @fileoverview Helpers for google.colab Python module.\n",
              " */\n",
              "(function(scope) {\n",
              "function span(text, styleAttributes = {}) {\n",
              "  const element = document.createElement('span');\n",
              "  element.textContent = text;\n",
              "  for (const key of Object.keys(styleAttributes)) {\n",
              "    element.style[key] = styleAttributes[key];\n",
              "  }\n",
              "  return element;\n",
              "}\n",
              "\n",
              "// Max number of bytes which will be uploaded at a time.\n",
              "const MAX_PAYLOAD_SIZE = 100 * 1024;\n",
              "\n",
              "function _uploadFiles(inputId, outputId) {\n",
              "  const steps = uploadFilesStep(inputId, outputId);\n",
              "  const outputElement = document.getElementById(outputId);\n",
              "  // Cache steps on the outputElement to make it available for the next call\n",
              "  // to uploadFilesContinue from Python.\n",
              "  outputElement.steps = steps;\n",
              "\n",
              "  return _uploadFilesContinue(outputId);\n",
              "}\n",
              "\n",
              "// This is roughly an async generator (not supported in the browser yet),\n",
              "// where there are multiple asynchronous steps and the Python side is going\n",
              "// to poll for completion of each step.\n",
              "// This uses a Promise to block the python side on completion of each step,\n",
              "// then passes the result of the previous step as the input to the next step.\n",
              "function _uploadFilesContinue(outputId) {\n",
              "  const outputElement = document.getElementById(outputId);\n",
              "  const steps = outputElement.steps;\n",
              "\n",
              "  const next = steps.next(outputElement.lastPromiseValue);\n",
              "  return Promise.resolve(next.value.promise).then((value) => {\n",
              "    // Cache the last promise value to make it available to the next\n",
              "    // step of the generator.\n",
              "    outputElement.lastPromiseValue = value;\n",
              "    return next.value.response;\n",
              "  });\n",
              "}\n",
              "\n",
              "/**\n",
              " * Generator function which is called between each async step of the upload\n",
              " * process.\n",
              " * @param {string} inputId Element ID of the input file picker element.\n",
              " * @param {string} outputId Element ID of the output display.\n",
              " * @return {!Iterable<!Object>} Iterable of next steps.\n",
              " */\n",
              "function* uploadFilesStep(inputId, outputId) {\n",
              "  const inputElement = document.getElementById(inputId);\n",
              "  inputElement.disabled = false;\n",
              "\n",
              "  const outputElement = document.getElementById(outputId);\n",
              "  outputElement.innerHTML = '';\n",
              "\n",
              "  const pickedPromise = new Promise((resolve) => {\n",
              "    inputElement.addEventListener('change', (e) => {\n",
              "      resolve(e.target.files);\n",
              "    });\n",
              "  });\n",
              "\n",
              "  const cancel = document.createElement('button');\n",
              "  inputElement.parentElement.appendChild(cancel);\n",
              "  cancel.textContent = 'Cancel upload';\n",
              "  const cancelPromise = new Promise((resolve) => {\n",
              "    cancel.onclick = () => {\n",
              "      resolve(null);\n",
              "    };\n",
              "  });\n",
              "\n",
              "  // Wait for the user to pick the files.\n",
              "  const files = yield {\n",
              "    promise: Promise.race([pickedPromise, cancelPromise]),\n",
              "    response: {\n",
              "      action: 'starting',\n",
              "    }\n",
              "  };\n",
              "\n",
              "  cancel.remove();\n",
              "\n",
              "  // Disable the input element since further picks are not allowed.\n",
              "  inputElement.disabled = true;\n",
              "\n",
              "  if (!files) {\n",
              "    return {\n",
              "      response: {\n",
              "        action: 'complete',\n",
              "      }\n",
              "    };\n",
              "  }\n",
              "\n",
              "  for (const file of files) {\n",
              "    const li = document.createElement('li');\n",
              "    li.append(span(file.name, {fontWeight: 'bold'}));\n",
              "    li.append(span(\n",
              "        `(${file.type || 'n/a'}) - ${file.size} bytes, ` +\n",
              "        `last modified: ${\n",
              "            file.lastModifiedDate ? file.lastModifiedDate.toLocaleDateString() :\n",
              "                                    'n/a'} - `));\n",
              "    const percent = span('0% done');\n",
              "    li.appendChild(percent);\n",
              "\n",
              "    outputElement.appendChild(li);\n",
              "\n",
              "    const fileDataPromise = new Promise((resolve) => {\n",
              "      const reader = new FileReader();\n",
              "      reader.onload = (e) => {\n",
              "        resolve(e.target.result);\n",
              "      };\n",
              "      reader.readAsArrayBuffer(file);\n",
              "    });\n",
              "    // Wait for the data to be ready.\n",
              "    let fileData = yield {\n",
              "      promise: fileDataPromise,\n",
              "      response: {\n",
              "        action: 'continue',\n",
              "      }\n",
              "    };\n",
              "\n",
              "    // Use a chunked sending to avoid message size limits. See b/62115660.\n",
              "    let position = 0;\n",
              "    do {\n",
              "      const length = Math.min(fileData.byteLength - position, MAX_PAYLOAD_SIZE);\n",
              "      const chunk = new Uint8Array(fileData, position, length);\n",
              "      position += length;\n",
              "\n",
              "      const base64 = btoa(String.fromCharCode.apply(null, chunk));\n",
              "      yield {\n",
              "        response: {\n",
              "          action: 'append',\n",
              "          file: file.name,\n",
              "          data: base64,\n",
              "        },\n",
              "      };\n",
              "\n",
              "      let percentDone = fileData.byteLength === 0 ?\n",
              "          100 :\n",
              "          Math.round((position / fileData.byteLength) * 100);\n",
              "      percent.textContent = `${percentDone}% done`;\n",
              "\n",
              "    } while (position < fileData.byteLength);\n",
              "  }\n",
              "\n",
              "  // All done.\n",
              "  yield {\n",
              "    response: {\n",
              "      action: 'complete',\n",
              "    }\n",
              "  };\n",
              "}\n",
              "\n",
              "scope.google = scope.google || {};\n",
              "scope.google.colab = scope.google.colab || {};\n",
              "scope.google.colab._files = {\n",
              "  _uploadFiles,\n",
              "  _uploadFilesContinue,\n",
              "};\n",
              "})(self);\n",
              "</script> "
            ]
          },
          "metadata": {}
        },
        {
          "output_type": "stream",
          "name": "stdout",
          "text": [
            "Saving ward.txt to ward.txt\n",
            "파일 이름을 입력하세요: ward.txt\n",
            "파일 안에는 총 47 개의글자가 있습니다.\n"
          ]
        }
      ]
    },
    {
      "cell_type": "markdown",
      "source": [
        "2. 시용자로부터파일 이름과 삭제할 문자열을 입력받는다. 파일을 열어서 사용자가 원하는 문자열을 삭제한 후에 다시 파일에 쓴다."
      ],
      "metadata": {
        "id": "zk1jfs16r5DG"
      }
    },
    {
      "cell_type": "code",
      "source": [
        "infilename = input(\"파일 이름을 입력하시오: \").strip()\n",
        "infile = open(infilename, \"r\")\n",
        "file_s = infile.read()\n",
        "removed_s = input(\"삭제할 문자열을 입력하시오: \").strip()\n",
        "modified_s = file_s.replace(removed_s, \"\")\n",
        "\n",
        "infile.close()\n",
        "outfile = open(infilename, \"w\")\n",
        "\n",
        "print(modified_s, file= outfile, end =\"\")\n",
        "print(\"변경된 파일이 저장되었습니다.\")\n",
        "outfile.close()"
      ],
      "metadata": {
        "colab": {
          "base_uri": "https://localhost:8080/"
        },
        "id": "-HldfsiysFYa",
        "outputId": "a02defcd-ca94-4c68-c239-2cad9c276156"
      },
      "execution_count": 29,
      "outputs": [
        {
          "output_type": "stream",
          "name": "stdout",
          "text": [
            "파일 이름을 입력하시오: ward.txt\n",
            "삭제할 문자열을 입력하시오: green\n",
            "변경된 파일이 저장되었습니다.\n"
          ]
        }
      ]
    },
    {
      "cell_type": "markdown",
      "source": [
        "3. 사용자가 입력하는 파일에   있는 각 문자들이 나타내는 빈도를 계산한는 프로그램을 작성하라."
      ],
      "metadata": {
        "id": "z8btqS4Atnmb"
      }
    },
    {
      "cell_type": "code",
      "source": [
        "infile = open(filename,\"r\")\n",
        "for line in infile:\n",
        " def countLine(line, counter):\n",
        "  for ch in line:\n",
        "    if ch.isalpha():\n",
        "      if ch in counter:\n",
        "        counter[ch] = counter[ch] + 1\n",
        "      else:\n",
        "        counter[ch] = 1\n",
        "\n",
        "fname = input(\"입력 파일 이름: \").strip()\n",
        "infile = open(fname, \"r\")\n",
        "\n",
        "my_dict = {}\n",
        "for line in infile:\n",
        "  countLine(line, my_dict)\n",
        "\n",
        "print(my_dict)\n",
        "infile.close()"
      ],
      "metadata": {
        "colab": {
          "base_uri": "https://localhost:8080/"
        },
        "id": "QuFGAL7AtvKJ",
        "outputId": "ba2d4327-530e-427c-8de8-1516fe2ea920"
      },
      "execution_count": 33,
      "outputs": [
        {
          "output_type": "stream",
          "name": "stdout",
          "text": [
            "입력 파일 이름: ward.txt\n",
            "{'r': 3, 'e': 6, 'd': 1, 'o': 2, 'a': 2, 'n': 1, 'g': 1, 'y': 1, 'l': 5, 'w': 2, 'b': 2, 'u': 2, 'p': 2, 'h': 1, 'i': 1, 't': 1, 'c': 1, 'k': 1}\n"
          ]
        }
      ]
    },
    {
      "cell_type": "markdown",
      "source": [
        "4. 파이썬에서는 객체를 파일에 저장할 수 있다. pickle 모듈을 사용하여서 정수 12, 실수 3.14, 리스트 [1, 2, 3, 4, 5]를 이진 파일 \"test.dat\"에 저장하였다가 다시 읽는 프로그램을 작성하고 테스트하라."
      ],
      "metadata": {
        "id": "n0muTUpjvw3d"
      }
    },
    {
      "cell_type": "code",
      "source": [
        "import pickle\n",
        "outfile = open(\"test.dat\", \"wb\")\n",
        "pickle.dump(12, outfile)\n",
        "pickle.dump(3.14, outfile)\n",
        "pickle.dump([1, 2, 3, 4, 5], outfile)\n",
        "outfile.close()\n",
        "\n",
        "infile = open(\"test.dat\", \"rb\")\n",
        "print(pickle.load(infile))\n",
        "print(pickle.load(infile))\n",
        "print(pickle.load(infile))\n",
        "infile.close()"
      ],
      "metadata": {
        "colab": {
          "base_uri": "https://localhost:8080/"
        },
        "id": "uFKeEVoGwOMM",
        "outputId": "c941a21f-a199-41b5-d69c-c57de0fe51fd"
      },
      "execution_count": 37,
      "outputs": [
        {
          "output_type": "stream",
          "name": "stdout",
          "text": [
            "12\n",
            "3.14\n",
            "[1, 2, 3, 4, 5]\n"
          ]
        }
      ]
    },
    {
      "cell_type": "markdown",
      "source": [
        "5. 텍스트 파일 \"data.txt\"에 실수값들이 저장되어 있다고 가정하자. 한 줄에 하나의 실수만 저장되어 있다. 예를 들면 다음과 같다.\n",
        "23.0 / 51.0 / 68.5 / 82.9 / 103.2\n",
        "이 파일을 읽어서 합계와 평균을 계산한 후에 이것을 \"output.txt\" 파일에 다음과 같이 저장하는 프로그램을 작성하라.\n",
        "합계=328.6/ 평균=65.72"
      ],
      "metadata": {
        "id": "ui-v05tuq2K-"
      }
    },
    {
      "cell_type": "code",
      "source": [
        "inFileName = input(\"입력 파일 이름: \")\n",
        "outFileName = input(\"출력 파일 이름: \")\n",
        "\n",
        "infile = open(inFileName, \"r\")\n",
        "outfile = open(outFileName, \"w\")\n",
        "\n",
        "total = 0.0\n",
        "count = 0\n",
        "\n",
        "line = infile.readline()\n",
        "while line != \"\":\n",
        "  value = float(line)\n",
        "  total = total + walue\n",
        "  count = count + 1\n",
        "  line = infile.readline()\n",
        "\n",
        "outfile.write(\"합계=\"+str(total)+\"|n\")\n",
        "\n",
        "avg = total / count\n",
        "outfile.write(\"평균=\"+str(avg)+\"|n\")\n",
        "\n",
        "infile.close()\n",
        "ourfile.close()"
      ],
      "metadata": {
        "colab": {
          "base_uri": "https://localhost:8080/",
          "height": 284
        },
        "id": "s-QihDlIxw0-",
        "outputId": "4c3238ce-6c31-4285-830d-dbdc31c2b073"
      },
      "execution_count": 42,
      "outputs": [
        {
          "name": "stdout",
          "output_type": "stream",
          "text": [
            "입력 파일 이름: data.txt\n",
            "출력 파일 이름: output.txt\n"
          ]
        },
        {
          "output_type": "error",
          "ename": "FileNotFoundError",
          "evalue": "ignored",
          "traceback": [
            "\u001b[0;31m---------------------------------------------------------------------------\u001b[0m",
            "\u001b[0;31mFileNotFoundError\u001b[0m                         Traceback (most recent call last)",
            "\u001b[0;32m<ipython-input-42-183aee290cd2>\u001b[0m in \u001b[0;36m<module>\u001b[0;34m\u001b[0m\n\u001b[1;32m      2\u001b[0m \u001b[0moutFileName\u001b[0m \u001b[0;34m=\u001b[0m \u001b[0minput\u001b[0m\u001b[0;34m(\u001b[0m\u001b[0;34m\"출력 파일 이름: \"\u001b[0m\u001b[0;34m)\u001b[0m\u001b[0;34m\u001b[0m\u001b[0;34m\u001b[0m\u001b[0m\n\u001b[1;32m      3\u001b[0m \u001b[0;34m\u001b[0m\u001b[0m\n\u001b[0;32m----> 4\u001b[0;31m \u001b[0minfile\u001b[0m \u001b[0;34m=\u001b[0m \u001b[0mopen\u001b[0m\u001b[0;34m(\u001b[0m\u001b[0minFileName\u001b[0m\u001b[0;34m,\u001b[0m \u001b[0;34m\"r\"\u001b[0m\u001b[0;34m)\u001b[0m\u001b[0;34m\u001b[0m\u001b[0;34m\u001b[0m\u001b[0m\n\u001b[0m\u001b[1;32m      5\u001b[0m \u001b[0moutfile\u001b[0m \u001b[0;34m=\u001b[0m \u001b[0mopen\u001b[0m\u001b[0;34m(\u001b[0m\u001b[0moutFileName\u001b[0m\u001b[0;34m,\u001b[0m \u001b[0;34m\"w\"\u001b[0m\u001b[0;34m)\u001b[0m\u001b[0;34m\u001b[0m\u001b[0;34m\u001b[0m\u001b[0m\n\u001b[1;32m      6\u001b[0m \u001b[0;34m\u001b[0m\u001b[0m\n",
            "\u001b[0;31mFileNotFoundError\u001b[0m: [Errno 2] No such file or directory: 'data.txt'"
          ]
        }
      ]
    },
    {
      "cell_type": "markdown",
      "source": [
        "6. tkinter를 사용하여 다음과 같은 사용자 인터페이스를 만든다. \"추가\" 버튼을 누르면 사용자가 입력한 이름과 전화 번호 리스트가 파일 \"phone_book.dat\"에 저장된다. \"파일 읽기\"를 누르면 파일 \"phone_book.dat\"에서 이름과 전화번호를 읽어오는 프로그램을 작성하라."
      ],
      "metadata": {
        "id": "g12Q5HlM0R3M"
      }
    },
    {
      "cell_type": "code",
      "source": [
        "import pickle\n",
        "from tkinter import *\n",
        "\n",
        "phone_book = {}\n",
        "current = 0\n",
        "name = \"\"\n",
        "phone = \"\"\n",
        "\n",
        "window = TK()\n",
        "\n",
        "frame1 = Frame(window)\n",
        "frame1.pack()\n",
        "Label(frame1, text =\"이름 \").grid(row = 1, column = 1, sticky = w)\n",
        "nameEntry = Entry(frame1, textvariable = name, width = 30)\n",
        "nameEntry.grid(row = 1, column = 2)\n",
        "\n",
        "frame2 = Frame(window)\n",
        "frame2.pack()\n",
        "Label(frame2, twxt = \"전화번호\").grid(row = 1, column = 1, sticky = w)\n",
        "phoneEntry = Entry(frame2, textvariable = phone, width = 30)\n",
        "phoneEntry.grid(row = 1, column = 2)\n",
        "\n",
        "frame3 = Frame(window)\n",
        "frame3.pack()\n",
        "\n",
        "def ave():\n",
        "  outfile = open(\"phonebook.dat\", \"wb\")\n",
        "  pickle.dump(phone_book, outfile)\n",
        "  print(\"주소들이 파일에 저장되었습니다.\")\n",
        "  outfile.close()\n",
        "\n",
        "def load():\n",
        "  infile = open(\"phonebook.dat\", \"rb\")\n",
        "  phone_book = pickle.load(infile)\n",
        "  infile.close()\n",
        "  print(\"파일에 주소를 읽었습니다.\")\n",
        "  go_first()\n",
        "\n",
        "def add():\n",
        "  phone_book[nameEntry.get()] = phoneEntry.get()\n",
        "  print(phone_book)\n",
        "  save()\n",
        "\n",
        "def go_first():\n",
        "  global current\n",
        "  current = 0\n",
        "  ks = list(phone_book)\n",
        "  nameEntry.delete(0, END)\n",
        "  nameEntry.insert(0, ks[current])\n",
        "  phoneEntry.delate(0, END)\n",
        "  phoneEntry.insert(0, phone_book[ks[current]])\n",
        "\n",
        "def go_next():\n",
        "  global current\n",
        "  current += 1\n",
        "  ks = list(phone_book)\n",
        "  nameEntry.delete(0, END)\n",
        "  nameEntry.insert(0, ks[current])\n",
        "  phoneEntry.delete(0,END)\n",
        "  phoneEntry.insert(0, phone_book[ks[current]])\n",
        "\n",
        "def go_previous():\n",
        "  print(\"구현되지 않았음\")\n",
        "\n",
        "def go_list():\n",
        "  print(\"구현되지 않았음\")\n",
        "\n",
        "b1 = Button(frame3, text = \"추가\", command = add).grid(row = 1, column =1)\n",
        "b2 = Button(frame3, text =\"처음\", command = go_first).grid(row = 1, column =2)\n",
        "b3 = Button(frame3, text = \"다음\", command = go_next).grid(row = 1, column =3)\n",
        "b4 = Button(frame3, text = \"이전\", command = go_previous).grid(row = 1, column =4)\n",
        "b5 = Button(frame3, text = \"마지막\", command = go_last).grid(row = 1, column =5)\n",
        "b6 = Button(frame3, text = \"파일 읽기\", command = load).grid(row = 1, column =6)\n",
        "\n",
        "window.mainloop()"
      ],
      "metadata": {
        "colab": {
          "base_uri": "https://localhost:8080/",
          "height": 248
        },
        "id": "1de3AApv0rTv",
        "outputId": "3de6b99c-8e01-4560-b8de-fae306678482"
      },
      "execution_count": 53,
      "outputs": [
        {
          "output_type": "error",
          "ename": "NameError",
          "evalue": "ignored",
          "traceback": [
            "\u001b[0;31m---------------------------------------------------------------------------\u001b[0m",
            "\u001b[0;31mNameError\u001b[0m                                 Traceback (most recent call last)",
            "\u001b[0;32m<ipython-input-53-f579da794393>\u001b[0m in \u001b[0;36m<module>\u001b[0;34m\u001b[0m\n\u001b[1;32m      7\u001b[0m \u001b[0mphone\u001b[0m \u001b[0;34m=\u001b[0m \u001b[0;34m\"\"\u001b[0m\u001b[0;34m\u001b[0m\u001b[0;34m\u001b[0m\u001b[0m\n\u001b[1;32m      8\u001b[0m \u001b[0;34m\u001b[0m\u001b[0m\n\u001b[0;32m----> 9\u001b[0;31m \u001b[0mwindow\u001b[0m \u001b[0;34m=\u001b[0m \u001b[0mTK\u001b[0m\u001b[0;34m(\u001b[0m\u001b[0;34m)\u001b[0m\u001b[0;34m\u001b[0m\u001b[0;34m\u001b[0m\u001b[0m\n\u001b[0m\u001b[1;32m     10\u001b[0m \u001b[0;34m\u001b[0m\u001b[0m\n\u001b[1;32m     11\u001b[0m \u001b[0mframe1\u001b[0m \u001b[0;34m=\u001b[0m \u001b[0mFrame\u001b[0m\u001b[0;34m(\u001b[0m\u001b[0mwindow\u001b[0m\u001b[0;34m)\u001b[0m\u001b[0;34m\u001b[0m\u001b[0;34m\u001b[0m\u001b[0m\n",
            "\u001b[0;31mNameError\u001b[0m: name 'TK' is not defined"
          ]
        }
      ]
    }
  ]
}